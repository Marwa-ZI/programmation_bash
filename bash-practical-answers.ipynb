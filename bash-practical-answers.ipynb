{
 "cells": [
  {
   "cell_type": "markdown",
   "metadata": {
    "tags": []
   },
   "source": [
    "# Programmation Bash - exercices - éléments de correction\n",
    "\n",
    "Les réponses proposées ci-dessous ne sont que des éléments de correction. D'autres solutions alternatives sont parfaitement possibles.\n",
    "\n",
    "## Préparation des données\n",
    "\n",
    "Supprimez tout d'abord les éventuels fichiers résiduels en exécutant la cellule suivante :"
   ]
  },
  {
   "cell_type": "code",
   "execution_count": 1,
   "metadata": {},
   "outputs": [],
   "source": [
    "#IN [1]\n",
    "rm -rf genomes genomes.tgz staphylo.tgz"
   ]
  },
  {
   "cell_type": "markdown",
   "metadata": {},
   "source": [
    "Téléchargez le fichier `genomes.tgz` avec la commande :"
   ]
  },
  {
   "cell_type": "code",
   "execution_count": 3,
   "metadata": {},
   "outputs": [
    {
     "name": "stdout",
     "output_type": "stream",
     "text": [
      "--2025-09-10 10:25:34--  https://raw.githubusercontent.com/Marwa-ZI/programmation_bash/main/genoms.gz\n",
      "Resolving raw.githubusercontent.com (raw.githubusercontent.com)... 185.199.111.133, 185.199.108.133, 185.199.109.133, ...\n",
      "Connecting to raw.githubusercontent.com (raw.githubusercontent.com)|185.199.111.133|:443... connected.\n",
      "HTTP request sent, awaiting response... 200 OK\n",
      "Length: 64398 (63K) [application/octet-stream]\n",
      "Saving to: ‘genoms.gz.1’\n",
      "\n",
      "genoms.gz.1         100%[===================>]  62.89K  --.-KB/s    in 0.009s  \n",
      "\n",
      "2025-09-10 10:25:34 (6.53 MB/s) - ‘genoms.gz.1’ saved [64398/64398]\n",
      "\n"
     ]
    }
   ],
   "source": [
    "#IN [2]\n",
    "wget https://raw.githubusercontent.com/Marwa-ZI/programmation_bash/main/genoms.gz\n"
   ]
  },
  {
   "cell_type": "markdown",
   "metadata": {},
   "source": [
    "*Remarque.* Si la commande `wget` n'est pas disponible, essayez d'utiliser la commande `curl` :\n",
    "```\n",
    "curl -o genoms.gz https://raw.githubusercontent.com/Marwa-ZI/programmation_bash/main/genoms.gz\n",
    "```"
   ]
  },
  {
   "cell_type": "markdown",
   "metadata": {},
   "source": [
    "Ce fichier contient les fichiers GenBank tronqués de quelques organismes (les dix premières lignes seulement).\n",
    "\n",
    "## Découverte du jeu de données\n",
    "\n",
    "1. Décompressez l'archive `genomes.tgz` que vous avez téléchargée.\n",
    "\n",
    "Utilisez pour cela la commande `tar`. Vous trouverez un rappel des différentes options [ici](https://wizardzines.com/comics/tar/)."
   ]
  },
  {
   "cell_type": "markdown",
   "metadata": {},
   "source": [
    "Pour décompresser l'archive `genomes.tgz`, il faut faire deux opérations :\n",
    "\n",
    "1. Décompresser l'archive.\n",
    "2. Désarchiver les fichiers contenus dans l'archive.\n",
    "\n",
    "Ces opérations peuvent se faire avec deux commandes :\n",
    "```\n",
    "gzip -d genoms.tgz    # ou gunzip genoms.tgz\n",
    "tar xf genoms.tar\n",
    "```\n",
    "\n",
    "Mais ces deux opérations (décompression et désarchivage) peuvent aussi se faire en une seule commande :"
   ]
  },
  {
   "cell_type": "code",
   "execution_count": 10,
   "metadata": {},
   "outputs": [],
   "source": [
    "#IN [3]\n",
    "tar -zxf genoms.gz"
   ]
  },
  {
   "cell_type": "code",
   "execution_count": 11,
   "metadata": {
    "tags": []
   },
   "outputs": [
    {
     "name": "stdout",
     "output_type": "stream",
     "text": [
      "total 188\n",
      "drwxrwxr-x  4 mzidi mzidi  4096 Sep 10 10:33 .\n",
      "-rw-rw-r--  1 mzidi mzidi 23457 Sep 10 10:32 bash-practical-answers.ipynb\n",
      "-rw-rw-r--  1 mzidi mzidi  6464 Sep 10 10:31 bash-practical.ipynb\n",
      "-rw-rw-r--  1 mzidi mzidi 64398 Sep 10 10:28 genoms.gz\n",
      "-rw-rw-r--  1 mzidi mzidi  1582 Sep 10 10:22 Untitled1.ipynb\n",
      "drwxrwxr-x  2 mzidi mzidi  4096 Sep 10 10:21 .ipynb_checkpoints\n",
      "drwxrwxr-x 12 mzidi mzidi  4096 Sep 10 09:59 ..\n",
      "-rw-rw-r--  1 mzidi mzidi 39442 Sep 10 08:04 bash-introduction.ipynb\n",
      "-rw-rw-r--  1 mzidi mzidi    72 Sep 10 08:04 Untitled.ipynb\n",
      "-rw-rw-r--  1 mzidi mzidi   372 Sep 10 07:46 people.dat\n",
      "-rw-rw-r--  1 mzidi mzidi    96 Sep 10 07:46 while.sh\n",
      "-rw-rw-r--  1 mzidi mzidi   240 Sep 10 07:46 exit.sh\n",
      "-rw-rw-r--  1 mzidi mzidi    62 Sep 10 07:46 haiku.txt\n",
      "-rw-rw-r--  1 mzidi mzidi   350 Sep 10 07:46 arg.sh\n",
      "-rw-rw-r--  1 mzidi mzidi   301 Sep 10 07:46 var.sh\n",
      "-rwxrwxr-x  1 mzidi mzidi    43 Sep 10 07:46 script.sh\n",
      "drwxr-xr-x  2 mzidi mzidi  4096 Jul 26  2010 genomes\n"
     ]
    }
   ],
   "source": [
    "#IN [4]\n",
    "ls -alt"
   ]
  },
  {
   "cell_type": "markdown",
   "metadata": {},
   "source": [
    "Pour un rappel de la signification des options `z`, `x` et `g` de la commande `tar`, consultez le site [explainshell](https://explainshell.com/explain?cmd=tar+zxf+genomes.tgz).\n",
    "\n",
    "Un répertoire `genomes` est alors créé :"
   ]
  },
  {
   "cell_type": "code",
   "execution_count": 12,
   "metadata": {},
   "outputs": [
    {
     "name": "stdout",
     "output_type": "stream",
     "text": [
      "drwxr-xr-x 2 mzidi mzidi 4.0K Jul 26  2010 genomes\n"
     ]
    }
   ],
   "source": [
    "#IN [5]\n",
    "ls -lh | grep genomes"
   ]
  },
  {
   "cell_type": "markdown",
   "metadata": {},
   "source": [
    "2. Combien de fichiers contient le répertoire `genomes` qui a été créé ? Utilisez, une (ou plusieurs) commande(s) Unix pour répondre. 😎"
   ]
  },
  {
   "cell_type": "markdown",
   "metadata": {},
   "source": [
    "Pour déterminer le nombre de fichiers dans le répertoire `genomes`, on peut utiliser la commande `ls -l` qui affiche un fichier par ligne puis compter le nombre de lignes :"
   ]
  },
  {
   "cell_type": "code",
   "execution_count": 13,
   "metadata": {},
   "outputs": [
    {
     "name": "stdout",
     "output_type": "stream",
     "text": [
      "48\n"
     ]
    }
   ],
   "source": [
    "#IN [6]\n",
    "ls -l genomes/ | wc -l"
   ]
  },
  {
   "cell_type": "markdown",
   "metadata": {},
   "source": [
    "Mais il faut faire attention car la commande `ls -l` affiche effectivement un fichier par ligne mais aussi la taille total des fichiers (ici `total 376`) au début :"
   ]
  },
  {
   "cell_type": "code",
   "execution_count": 14,
   "metadata": {},
   "outputs": [
    {
     "name": "stdout",
     "output_type": "stream",
     "text": [
      "total 376\n",
      "-rw-r--r-- 1 mzidi mzidi 5111 Jul 26  2010 NC_000907_head.gbk\n",
      "-rw-r--r-- 1 mzidi mzidi 5766 Jul 26  2010 NC_000964_head.gbk\n",
      "-rw-r--r-- 1 mzidi mzidi 5035 Jul 26  2010 NC_001869_head.gbk\n",
      "-rw-r--r-- 1 mzidi mzidi 5174 Jul 26  2010 NC_002505_head.gbk\n",
      "-rw-r--r-- 1 mzidi mzidi 4776 Jul 26  2010 NC_002570_head.gbk\n",
      "-rw-r--r-- 1 mzidi mzidi 5119 Jul 26  2010 NC_002678_head.gbk\n",
      "-rw-r--r-- 1 mzidi mzidi 5347 Jul 26  2010 NC_002935_head.gbk\n",
      "-rw-r--r-- 1 mzidi mzidi 5550 Jul 26  2010 NC_002939_head.gbk\n",
      "-rw-r--r-- 1 mzidi mzidi 4974 Jul 26  2010 NC_002976_head.gbk\n",
      "-rw-r--r-- 1 mzidi mzidi 5164 Jul 26  2010 NC_003317_head.gbk\n",
      "-rw-r--r-- 1 mzidi mzidi 5065 Jul 26  2010 NC_004307_head.gbk\n",
      "-rw-r--r-- 1 mzidi mzidi 5305 Jul 26  2010 NC_004459_head.gbk\n",
      "-rw-r--r-- 1 mzidi mzidi 5227 Jul 26  2010 NC_004461_head.gbk\n",
      "-rw-r--r-- 1 mzidi mzidi 5309 Jul 26  2010 NC_004567_head.gbk\n",
      "-rw-r--r-- 1 mzidi mzidi 5383 Jul 26  2010 NC_004917_head.gbk\n",
      "-rw-r--r-- 1 mzidi mzidi 6081 Jul 26  2010 NC_005085_head.gbk\n",
      "-rw-r--r-- 1 mzidi mzidi 5141 Jul 26  2010 NC_005125_head.gbk\n",
      "-rw-r--r-- 1 mzidi mzidi 5320 Jul 26  2010 NC_006298_head.gbk\n",
      "-rw-r--r-- 1 mzidi mzidi 5478 Jul 26  2010 NC_006348_head.gbk\n",
      "-rw-r--r-- 1 mzidi mzidi 5171 Jul 26  2010 NC_006512_head.gbk\n",
      "-rw-r--r-- 1 mzidi mzidi 5074 Jul 26  2010 NC_006840_head.gbk\n",
      "-rw-r--r-- 1 mzidi mzidi 5334 Jul 26  2010 NC_007168_head.gbk\n",
      "-rw-r--r-- 1 mzidi mzidi 5487 Jul 26  2010 NC_007350_head.gbk\n",
      "-rw-r--r-- 1 mzidi mzidi 5184 Jul 26  2010 NC_007515_head.gbk\n",
      "-rw-r--r-- 1 mzidi mzidi 5275 Jul 26  2010 NC_007645_head.gbk\n",
      "-rw-r--r-- 1 mzidi mzidi 5370 Jul 26  2010 NC_007650_head.gbk\n",
      "-rw-r--r-- 1 mzidi mzidi 5549 Jul 26  2010 NC_007801_head.gbk\n",
      "-rw-r--r-- 1 mzidi mzidi 5470 Jul 26  2010 NC_008054_head.gbk\n",
      "-rw-r--r-- 1 mzidi mzidi 5539 Jul 26  2010 NC_008542_head.gbk\n",
      "-rw-r--r-- 1 mzidi mzidi 5585 Jul 26  2010 NC_008783_head.gbk\n",
      "-rw-r--r-- 1 mzidi mzidi 5423 Jul 26  2010 NC_009033_head.gbk\n",
      "-rw-r--r-- 1 mzidi mzidi 5344 Jul 26  2010 NC_009477_head.gbk\n",
      "-rw-r--r-- 1 mzidi mzidi 5190 Jul 26  2010 NC_009495_head.gbk\n",
      "-rw-r--r-- 1 mzidi mzidi 5283 Jul 26  2010 NC_009504_head.gbk\n",
      "-rw-r--r-- 1 mzidi mzidi 5475 Jul 26  2010 NC_009943_head.gbk\n",
      "-rw-r--r-- 1 mzidi mzidi 5344 Jul 26  2010 NC_010617_head.gbk\n",
      "-rw-r--r-- 1 mzidi mzidi 5447 Jul 26  2010 NC_011184_head.gbk\n",
      "-rw-r--r-- 1 mzidi mzidi 5204 Jul 26  2010 NC_011333_head.gbk\n",
      "-rw-r--r-- 1 mzidi mzidi 4914 Jul 26  2010 NC_011654_head.gbk\n",
      "-rw-r--r-- 1 mzidi mzidi 5368 Jul 26  2010 NC_011852_head.gbk\n",
      "-rw-r--r-- 1 mzidi mzidi 5142 Jul 26  2010 NC_011979_head.gbk\n",
      "-rw-r--r-- 1 mzidi mzidi 5104 Jul 26  2010 NC_012655_head.gbk\n",
      "-rw-r--r-- 1 mzidi mzidi 5272 Jul 26  2010 NC_012686_head.gbk\n",
      "-rw-r--r-- 1 mzidi mzidi 5504 Jul 26  2010 NC_012880_head.gbk\n",
      "-rw-r--r-- 1 mzidi mzidi 5089 Jul 26  2010 NC_013123_head.gbk\n",
      "-rw-r--r-- 1 mzidi mzidi 4745 Jul 26  2010 NC_013893_head.gbk\n",
      "-rw-r--r-- 1 mzidi mzidi 5410 Jul 26  2010 NC_014205_head.gbk\n"
     ]
    }
   ],
   "source": [
    "#IN [7]\n",
    "ls -l genomes/"
   ]
  },
  {
   "cell_type": "markdown",
   "metadata": {},
   "source": [
    "Il faut donc retirer un du résultat précédent. Il y a donc **47 fichiers** dans le répertoire `genomes`.\n",
    "\n",
    "Pour afficher exactement un fichier par ligne, sans ligne supplémentaire, on peut utiliser l'option `-1` (le chiffre 1) de la commande `ls` :"
   ]
  },
  {
   "cell_type": "code",
   "execution_count": 15,
   "metadata": {},
   "outputs": [
    {
     "name": "stdout",
     "output_type": "stream",
     "text": [
      "NC_000907_head.gbk\n",
      "NC_000964_head.gbk\n",
      "NC_001869_head.gbk\n",
      "NC_002505_head.gbk\n",
      "NC_002570_head.gbk\n",
      "NC_002678_head.gbk\n",
      "NC_002935_head.gbk\n",
      "NC_002939_head.gbk\n",
      "NC_002976_head.gbk\n",
      "NC_003317_head.gbk\n",
      "NC_004307_head.gbk\n",
      "NC_004459_head.gbk\n",
      "NC_004461_head.gbk\n",
      "NC_004567_head.gbk\n",
      "NC_004917_head.gbk\n",
      "NC_005085_head.gbk\n",
      "NC_005125_head.gbk\n",
      "NC_006298_head.gbk\n",
      "NC_006348_head.gbk\n",
      "NC_006512_head.gbk\n",
      "NC_006840_head.gbk\n",
      "NC_007168_head.gbk\n",
      "NC_007350_head.gbk\n",
      "NC_007515_head.gbk\n",
      "NC_007645_head.gbk\n",
      "NC_007650_head.gbk\n",
      "NC_007801_head.gbk\n",
      "NC_008054_head.gbk\n",
      "NC_008542_head.gbk\n",
      "NC_008783_head.gbk\n",
      "NC_009033_head.gbk\n",
      "NC_009477_head.gbk\n",
      "NC_009495_head.gbk\n",
      "NC_009504_head.gbk\n",
      "NC_009943_head.gbk\n",
      "NC_010617_head.gbk\n",
      "NC_011184_head.gbk\n",
      "NC_011333_head.gbk\n",
      "NC_011654_head.gbk\n",
      "NC_011852_head.gbk\n",
      "NC_011979_head.gbk\n",
      "NC_012655_head.gbk\n",
      "NC_012686_head.gbk\n",
      "NC_012880_head.gbk\n",
      "NC_013123_head.gbk\n",
      "NC_013893_head.gbk\n",
      "NC_014205_head.gbk\n"
     ]
    }
   ],
   "source": [
    "#IN [8]\n",
    "ls -1 genomes/"
   ]
  },
  {
   "cell_type": "markdown",
   "metadata": {},
   "source": [
    "ce qui donne bien :"
   ]
  },
  {
   "cell_type": "code",
   "execution_count": 8,
   "metadata": {},
   "outputs": [
    {
     "name": "stdout",
     "output_type": "stream",
     "text": [
      "47\n"
     ]
    }
   ],
   "source": [
    "#IN [9]\n",
    "ls -1 genomes/ | wc -l"
   ]
  },
  {
   "cell_type": "markdown",
   "metadata": {},
   "source": [
    "\n",
    "3. Familiarisez-vous avec les fichiers GenBank contenu dans le répertoire `genomes`. Combien de lignes y-a-t-il dans chaque fichiers ?"
   ]
  },
  {
   "cell_type": "markdown",
   "metadata": {},
   "source": [
    "La commande pour compter le nombre de lignes d'un fichier est la commande `wc` avec l'option `-l`. Par exemple :"
   ]
  },
  {
   "cell_type": "code",
   "execution_count": 9,
   "metadata": {},
   "outputs": [
    {
     "name": "stdout",
     "output_type": "stream",
     "text": [
      "100 genomes/NC_000907_head.gbk\n"
     ]
    }
   ],
   "source": [
    "#IN [10]\n",
    "wc -l genomes/NC_000907_head.gbk"
   ]
  },
  {
   "cell_type": "markdown",
   "metadata": {},
   "source": [
    "Le fichier `genomes/NC_000907_head.gbk` contient 100 lignes. Il faut maintenant réaliser la même chose pour les 46 autres fichiers. On peut le faire manuellement mais c'est assez fastidueux.\n",
    "\n",
    "Une première façon d'automatiser ce comptage est d'utiliser un boucle `for` :"
   ]
  },
  {
   "cell_type": "code",
   "execution_count": 10,
   "metadata": {},
   "outputs": [
    {
     "name": "stdout",
     "output_type": "stream",
     "text": [
      "100 genomes/NC_000907_head.gbk\n",
      "100 genomes/NC_000964_head.gbk\n",
      "100 genomes/NC_001869_head.gbk\n",
      "100 genomes/NC_002505_head.gbk\n",
      "100 genomes/NC_002570_head.gbk\n",
      "100 genomes/NC_002678_head.gbk\n",
      "100 genomes/NC_002935_head.gbk\n",
      "100 genomes/NC_002939_head.gbk\n",
      "100 genomes/NC_002976_head.gbk\n",
      "100 genomes/NC_003317_head.gbk\n",
      "100 genomes/NC_004307_head.gbk\n",
      "100 genomes/NC_004459_head.gbk\n",
      "100 genomes/NC_004461_head.gbk\n",
      "100 genomes/NC_004567_head.gbk\n",
      "100 genomes/NC_004917_head.gbk\n",
      "100 genomes/NC_005085_head.gbk\n",
      "100 genomes/NC_005125_head.gbk\n",
      "100 genomes/NC_006298_head.gbk\n",
      "100 genomes/NC_006348_head.gbk\n",
      "100 genomes/NC_006512_head.gbk\n",
      "100 genomes/NC_006840_head.gbk\n",
      "100 genomes/NC_007168_head.gbk\n",
      "100 genomes/NC_007350_head.gbk\n",
      "100 genomes/NC_007515_head.gbk\n",
      "100 genomes/NC_007645_head.gbk\n",
      "100 genomes/NC_007650_head.gbk\n",
      "100 genomes/NC_007801_head.gbk\n",
      "100 genomes/NC_008054_head.gbk\n",
      "100 genomes/NC_008542_head.gbk\n",
      "100 genomes/NC_008783_head.gbk\n",
      "100 genomes/NC_009033_head.gbk\n",
      "100 genomes/NC_009477_head.gbk\n",
      "100 genomes/NC_009495_head.gbk\n",
      "100 genomes/NC_009504_head.gbk\n",
      "100 genomes/NC_009943_head.gbk\n",
      "100 genomes/NC_010617_head.gbk\n",
      "100 genomes/NC_011184_head.gbk\n",
      "100 genomes/NC_011333_head.gbk\n",
      "100 genomes/NC_011654_head.gbk\n",
      "100 genomes/NC_011852_head.gbk\n",
      "100 genomes/NC_011979_head.gbk\n",
      "100 genomes/NC_012655_head.gbk\n",
      "100 genomes/NC_012686_head.gbk\n",
      "100 genomes/NC_012880_head.gbk\n",
      "100 genomes/NC_013123_head.gbk\n",
      "100 genomes/NC_013893_head.gbk\n",
      "100 genomes/NC_014205_head.gbk\n"
     ]
    }
   ],
   "source": [
    "#IN [11]\n",
    "for name in genomes/*.gbk\n",
    "do\n",
    "    wc -l ${name}\n",
    "done"
   ]
  },
  {
   "cell_type": "markdown",
   "metadata": {},
   "source": [
    "Une seconde façon est d'utiliser directement la commande `wc` avec tous les fichiers GenBank :"
   ]
  },
  {
   "cell_type": "code",
   "execution_count": 11,
   "metadata": {},
   "outputs": [
    {
     "name": "stdout",
     "output_type": "stream",
     "text": [
      "   100 genomes/NC_000907_head.gbk\n",
      "   100 genomes/NC_000964_head.gbk\n",
      "   100 genomes/NC_001869_head.gbk\n",
      "   100 genomes/NC_002505_head.gbk\n",
      "   100 genomes/NC_002570_head.gbk\n",
      "   100 genomes/NC_002678_head.gbk\n",
      "   100 genomes/NC_002935_head.gbk\n",
      "   100 genomes/NC_002939_head.gbk\n",
      "   100 genomes/NC_002976_head.gbk\n",
      "   100 genomes/NC_003317_head.gbk\n",
      "   100 genomes/NC_004307_head.gbk\n",
      "   100 genomes/NC_004459_head.gbk\n",
      "   100 genomes/NC_004461_head.gbk\n",
      "   100 genomes/NC_004567_head.gbk\n",
      "   100 genomes/NC_004917_head.gbk\n",
      "   100 genomes/NC_005085_head.gbk\n",
      "   100 genomes/NC_005125_head.gbk\n",
      "   100 genomes/NC_006298_head.gbk\n",
      "   100 genomes/NC_006348_head.gbk\n",
      "   100 genomes/NC_006512_head.gbk\n",
      "   100 genomes/NC_006840_head.gbk\n",
      "   100 genomes/NC_007168_head.gbk\n",
      "   100 genomes/NC_007350_head.gbk\n",
      "   100 genomes/NC_007515_head.gbk\n",
      "   100 genomes/NC_007645_head.gbk\n",
      "   100 genomes/NC_007650_head.gbk\n",
      "   100 genomes/NC_007801_head.gbk\n",
      "   100 genomes/NC_008054_head.gbk\n",
      "   100 genomes/NC_008542_head.gbk\n",
      "   100 genomes/NC_008783_head.gbk\n",
      "   100 genomes/NC_009033_head.gbk\n",
      "   100 genomes/NC_009477_head.gbk\n",
      "   100 genomes/NC_009495_head.gbk\n",
      "   100 genomes/NC_009504_head.gbk\n",
      "   100 genomes/NC_009943_head.gbk\n",
      "   100 genomes/NC_010617_head.gbk\n",
      "   100 genomes/NC_011184_head.gbk\n",
      "   100 genomes/NC_011333_head.gbk\n",
      "   100 genomes/NC_011654_head.gbk\n",
      "   100 genomes/NC_011852_head.gbk\n",
      "   100 genomes/NC_011979_head.gbk\n",
      "   100 genomes/NC_012655_head.gbk\n",
      "   100 genomes/NC_012686_head.gbk\n",
      "   100 genomes/NC_012880_head.gbk\n",
      "   100 genomes/NC_013123_head.gbk\n",
      "   100 genomes/NC_013893_head.gbk\n",
      "   100 genomes/NC_014205_head.gbk\n",
      "  4700 total\n"
     ]
    }
   ],
   "source": [
    "#IN [12]\n",
    "wc -l genomes/*.gbk"
   ]
  },
  {
   "cell_type": "markdown",
   "metadata": {},
   "source": [
    "Tous les fichiers contiennent 100 lignes chacun. `wc` affiche même le total : 47 fichiers x 100 lignes = 4700 lignes."
   ]
  },
  {
   "cell_type": "markdown",
   "metadata": {},
   "source": [
    "4. Quelle ligne des fichiers GenBank permet de savoir si l'organisme concerné est un staphylocoque ?\n",
    "\n",
    "Par exemple, le fichier *NC_002976_head.gbk* est un fichier d'un staphylocoque alors que *NC_002505_head.gbk* non.\n"
   ]
  },
  {
   "cell_type": "markdown",
   "metadata": {},
   "source": [
    "En observant les différents fichiers GenBank, on se rend compte que le nom d'organisme des staphylocoques est de la forme :\n",
    "```\n",
    "  ORGANISM  Staphylococcus epidermidis RP62A\n",
    "```\n",
    "C'est en particulier le mot `Staphylococcus` qui est discriminant ici.\n",
    "\n",
    "En réalité d'autres lignes pourraient servir à identifier les staphylocoques, comme :\n",
    "```\n",
    "DEFINITION  Staphylococcus epidermidis RP62A, complete genome.\n",
    "```\n",
    "ou\n",
    "```\n",
    "SOURCE      Staphylococcus epidermidis RP62A\n",
    "```"
   ]
  },
  {
   "cell_type": "markdown",
   "metadata": {},
   "source": [
    "## Extraction automatique des staphylocoques\n",
    "\n",
    "Supprimez maintenant le répertoire `genomes` :"
   ]
  },
  {
   "cell_type": "markdown",
   "metadata": {},
   "source": [
    "Suppression du répertoire `genomes` :"
   ]
  },
  {
   "cell_type": "code",
   "execution_count": 12,
   "metadata": {},
   "outputs": [],
   "source": [
    "#IN [13]\n",
    "rm -rf genomes/"
   ]
  },
  {
   "cell_type": "markdown",
   "metadata": {},
   "source": [
    "**Attention** à la commande `rm -rf` qui va supprimer sans demander confirmation le répertoire fourni en argument. Sous Unix, il n'y a pas de corbeille, ni possibilité de revenir en arrière."
   ]
  },
  {
   "cell_type": "markdown",
   "metadata": {},
   "source": [
    "Si le fichier `genomes.tgz` n'est plus présent dans votre répertoire, pensez à le télécharger à nouveau.\n",
    "\n",
    "Écrivez le script bash `get_staphylo.sh` qui s'exécute dans le même répertoire que `genomes.tgz` et qui :\n",
    "\n",
    "1. décompresse l'archive `genomes.tgz` ;\n",
    "2. crée un répertoire `staphylo`, au même niveau que le répertoire `genomes` qui contient les fichiers GenBank ;\n",
    "3. décide si le fichier GenBank contient un génome de staphylocoques ou pas ;\n",
    "4. affiche les noms des fichiers GenBank de staphylocoques ;\n",
    "5. copie ces fichiers dans le répertoire `staphylo` ;\n",
    "6. archive et compresse le répertoire `staphylo` sous le nom `staphylo.tgz` ;\n",
    "7. supprime les répertoires `genomes` et `staphylo`."
   ]
  },
  {
   "cell_type": "markdown",
   "metadata": {},
   "source": [
    "Le script `get_staphylo.sh` devrait ressembler au script ci-dessous :\n",
    "\n",
    "```\n",
    "#! /usr/bin/env bash\n",
    "\n",
    "# Pierre Poulain 2021\n",
    "\n",
    "# Define directories with data\n",
    "dir_input=\"genomes\"\n",
    "dir_output=\"staphylo\"\n",
    "\n",
    "# Uncompress initial file\n",
    "tar zxf genomes.tgz\n",
    "\n",
    "# Create empty directory for Staphylococcus genomes\n",
    "mkdir -p ${dir_output}\n",
    "\n",
    "# Loop on all genbank files\n",
    "for name in ${dir_input}/*.gbk\n",
    "do\n",
    "    # Select Staphylococcus files only\n",
    "    if grep \"ORGANISM\" ${name} | grep \"Staphylococcus\"\n",
    "    then\n",
    "        # Print filename with Staphylococcus\n",
    "        echo \"${name} is a Staphylococcus\"\n",
    "        # Copy Staphylococcus file into the staphylo directory\n",
    "        cp ${name} ${dir_output}\n",
    "    fi\n",
    "done\n",
    "\n",
    "# Create final archive\n",
    "tar zcf staphylo.tgz ${dir_output}/\n",
    "\n",
    "# Delete temporary data directories\n",
    "rm -rf ${dir_input} ${dir_output}\n",
    "```\n",
    "\n",
    "Copiez le contenu ci-dessus dans le script `get_staphylo.sh` puis exécutez ce script :"
   ]
  },
  {
   "cell_type": "code",
   "execution_count": 13,
   "metadata": {},
   "outputs": [
    {
     "name": "stdout",
     "output_type": "stream",
     "text": [
      "  ORGANISM  Staphylococcus epidermidis RP62A\n",
      "genomes/NC_002976_head.gbk is a Staphylococcus\n",
      "  ORGANISM  Staphylococcus epidermidis ATCC 12228\n",
      "genomes/NC_004461_head.gbk is a Staphylococcus\n",
      "  ORGANISM  Staphylococcus haemolyticus JCSC1435\n",
      "genomes/NC_007168_head.gbk is a Staphylococcus\n",
      "  ORGANISM  Staphylococcus saprophyticus subsp. saprophyticus ATCC 15305\n",
      "genomes/NC_007350_head.gbk is a Staphylococcus\n",
      "  ORGANISM  Staphylococcus aureus subsp. aureus JH9\n",
      "genomes/NC_009477_head.gbk is a Staphylococcus\n",
      "  ORGANISM  Staphylococcus lugdunensis HKU09-01\n",
      "genomes/NC_013893_head.gbk is a Staphylococcus\n"
     ]
    }
   ],
   "source": [
    "#IN [14]\n",
    "bash get_staphylo.sh"
   ]
  },
  {
   "cell_type": "markdown",
   "metadata": {},
   "source": [
    "Pour terminer, exécutez ce même script depuis un terminal pour vérifier que vous obtenez bien le même résultat."
   ]
  }
 ],
 "metadata": {
  "kernelspec": {
   "display_name": "Bash",
   "language": "bash",
   "name": "bash"
  },
  "language_info": {
   "codemirror_mode": "shell",
   "file_extension": ".sh",
   "mimetype": "text/x-sh",
   "name": "bash"
  }
 },
 "nbformat": 4,
 "nbformat_minor": 4
}
