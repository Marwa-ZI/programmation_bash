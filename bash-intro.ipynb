{
 "cells": [
  {
   "cell_type": "markdown",
   "metadata": {
    "jp-MarkdownHeadingCollapsed": true,
    "tags": []
   },
   "source": [
    "# Programmation Bash\n",
    "\n",
    "---\n",
    "<div class=\"alert alert-block alert-info\">\n",
    "Vous pouvez exécuter les commandes ci-desous directement dans le notebook ou dans un terminal.<br />\n",
    "Nous vous conseillons de tester les deux.\n",
    "</div>\n",
    "\n",
    "**Rappel**, dans un notebook :\n",
    "\n",
    "- la combinaison de touches <kbd>Ctrl</kbd>+<kbd>Entrée</kbd> exécute une cellule.\n",
    "- la combinaison de touches <kbd>Shift</kbd>+<kbd>Entrée</kbd> exécute une cellule puis passe à la suivante. C'est équivalent à cliquer sur l'icone ▶️ dans la barre de menu en haut du notebook.\n",
    "- la combinaison de touches <kbd>Alt</kbd>+<kbd>Entrée</kbd> exécute une cellule puis en crée une nouvelle (vide) en dessous.\n",
    "\n",
    "Pour ajouter une cellule, vous pouvez aussi cliquer sur l'icone ➕ dans la barre de menu du notebook.\n",
    "\n",
    "---\n",
    "\n",
    "Exécutez la cellule ci-dessous pour télécharger tous les fichiers dont vous aurez besoin par la suite :"
   ]
  },
  {
   "cell_type": "code",
   "execution_count": 1,
   "metadata": {
    "tags": []
   },
   "outputs": [
    {
     "name": "stdout",
     "output_type": "stream",
     "text": [
      "--2025-09-02 14:06:48--  https://raw.githubusercontent.com/pierrepo/unix/master/script.sh\n",
      "Resolving raw.githubusercontent.com (raw.githubusercontent.com)... 185.199.111.133, 185.199.108.133, 185.199.109.133, ...\n",
      "Connecting to raw.githubusercontent.com (raw.githubusercontent.com)|185.199.111.133|:443... connected.\n",
      "HTTP request sent, awaiting response... 200 OK\n",
      "Length: 43 [text/plain]\n",
      "Saving to: ‘script.sh’\n",
      "\n",
      "script.sh           100%[===================>]      43  --.-KB/s    in 0s      \n",
      "\n",
      "2025-09-02 14:06:48 (1.15 MB/s) - ‘script.sh’ saved [43/43]\n",
      "\n",
      "--2025-09-02 14:06:48--  https://raw.githubusercontent.com/pierrepo/unix/master/var.sh\n",
      "Resolving raw.githubusercontent.com (raw.githubusercontent.com)... 185.199.108.133, 185.199.109.133, 185.199.110.133, ...\n",
      "Connecting to raw.githubusercontent.com (raw.githubusercontent.com)|185.199.108.133|:443... connected.\n",
      "HTTP request sent, awaiting response... 200 OK\n",
      "Length: 301 [text/plain]\n",
      "Saving to: ‘var.sh’\n",
      "\n",
      "var.sh              100%[===================>]     301  --.-KB/s    in 0s      \n",
      "\n",
      "2025-09-02 14:06:48 (8.26 MB/s) - ‘var.sh’ saved [301/301]\n",
      "\n",
      "--2025-09-02 14:06:48--  https://raw.githubusercontent.com/pierrepo/unix/master/arg.sh\n",
      "Resolving raw.githubusercontent.com (raw.githubusercontent.com)... 185.199.109.133, 185.199.110.133, 185.199.111.133, ...\n",
      "Connecting to raw.githubusercontent.com (raw.githubusercontent.com)|185.199.109.133|:443... connected.\n",
      "HTTP request sent, awaiting response... 200 OK\n",
      "Length: 350 [text/plain]\n",
      "Saving to: ‘arg.sh’\n",
      "\n",
      "arg.sh              100%[===================>]     350  --.-KB/s    in 0s      \n",
      "\n",
      "2025-09-02 14:06:48 (9.72 MB/s) - ‘arg.sh’ saved [350/350]\n",
      "\n",
      "--2025-09-02 14:06:48--  https://raw.githubusercontent.com/pierrepo/unix/master/haiku.txt\n",
      "Resolving raw.githubusercontent.com (raw.githubusercontent.com)... 185.199.110.133, 185.199.111.133, 185.199.108.133, ...\n",
      "Connecting to raw.githubusercontent.com (raw.githubusercontent.com)|185.199.110.133|:443... connected.\n",
      "HTTP request sent, awaiting response... 200 OK\n",
      "Length: 62 [text/plain]\n",
      "Saving to: ‘haiku.txt’\n",
      "\n",
      "haiku.txt           100%[===================>]      62  --.-KB/s    in 0s      \n",
      "\n",
      "2025-09-02 14:06:49 (1.73 MB/s) - ‘haiku.txt’ saved [62/62]\n",
      "\n",
      "--2025-09-02 14:06:49--  https://raw.githubusercontent.com/pierrepo/unix/master/exit.sh\n",
      "Resolving raw.githubusercontent.com (raw.githubusercontent.com)... 185.199.111.133, 185.199.108.133, 185.199.109.133, ...\n",
      "Connecting to raw.githubusercontent.com (raw.githubusercontent.com)|185.199.111.133|:443... connected.\n",
      "HTTP request sent, awaiting response... 200 OK\n",
      "Length: 240 [text/plain]\n",
      "Saving to: ‘exit.sh’\n",
      "\n",
      "exit.sh             100%[===================>]     240  --.-KB/s    in 0s      \n",
      "\n",
      "2025-09-02 14:06:49 (6.77 MB/s) - ‘exit.sh’ saved [240/240]\n",
      "\n",
      "--2025-09-02 14:06:49--  https://raw.githubusercontent.com/pierrepo/unix/master/while.sh\n",
      "Resolving raw.githubusercontent.com (raw.githubusercontent.com)... 185.199.108.133, 185.199.109.133, 185.199.110.133, ...\n",
      "Connecting to raw.githubusercontent.com (raw.githubusercontent.com)|185.199.108.133|:443... connected.\n",
      "HTTP request sent, awaiting response... 200 OK\n",
      "Length: 96 [text/plain]\n",
      "Saving to: ‘while.sh’\n",
      "\n",
      "while.sh            100%[===================>]      96  --.-KB/s    in 0s      \n",
      "\n",
      "2025-09-02 14:06:49 (2.64 MB/s) - ‘while.sh’ saved [96/96]\n",
      "\n",
      "--2025-09-02 14:06:49--  https://raw.githubusercontent.com/pierrepo/unix/master/mon%20fichier.txt\n",
      "Resolving raw.githubusercontent.com (raw.githubusercontent.com)... 185.199.109.133, 185.199.110.133, 185.199.111.133, ...\n",
      "Connecting to raw.githubusercontent.com (raw.githubusercontent.com)|185.199.109.133|:443... connected.\n",
      "HTTP request sent, awaiting response... 200 OK\n",
      "Length: 13 [text/plain]\n",
      "Saving to: ‘mon fichier.txt’\n",
      "\n",
      "mon fichier.txt     100%[===================>]      13  --.-KB/s    in 0s      \n",
      "\n",
      "2025-09-02 14:06:49 (377 KB/s) - ‘mon fichier.txt’ saved [13/13]\n",
      "\n",
      "--2025-09-02 14:06:49--  https://raw.githubusercontent.com/pierrepo/unix/master/people.dat\n",
      "Resolving raw.githubusercontent.com (raw.githubusercontent.com)... 185.199.110.133, 185.199.111.133, 185.199.108.133, ...\n",
      "Connecting to raw.githubusercontent.com (raw.githubusercontent.com)|185.199.110.133|:443... connected.\n",
      "HTTP request sent, awaiting response... 200 OK\n",
      "Length: 372 [text/plain]\n",
      "Saving to: ‘people.dat’\n",
      "\n",
      "people.dat          100%[===================>]     372  --.-KB/s    in 0s      \n",
      "\n",
      "2025-09-02 14:06:50 (10.1 MB/s) - ‘people.dat’ saved [372/372]\n",
      "\n"
     ]
    }
   ],
   "source": [
    "wget https://raw.githubusercontent.com/pierrepo/unix/master/script.sh\n",
    "wget https://raw.githubusercontent.com/pierrepo/unix/master/var.sh\n",
    "wget https://raw.githubusercontent.com/pierrepo/unix/master/arg.sh\n",
    "wget https://raw.githubusercontent.com/pierrepo/unix/master/haiku.txt\n",
    "wget https://raw.githubusercontent.com/pierrepo/unix/master/exit.sh\n",
    "wget https://raw.githubusercontent.com/pierrepo/unix/master/while.sh\n",
    "wget \"https://raw.githubusercontent.com/pierrepo/unix/master/mon fichier.txt\"\n",
    "wget https://raw.githubusercontent.com/pierrepo/unix/master/people.dat"
   ]
  },
  {
   "cell_type": "markdown",
   "metadata": {},
   "source": [
    "# Introduction\n",
    "\n",
    "Bash est un interpréteur de lignes de commande (*shell*) utilisé sur des systèmes Unix / Linux. C'est un des *shells* les plus utilisés sous Linux.\n",
    "\n",
    "Si vous avez oublié (ou ignorez) la différence entre *shell* et terminal, jetez un oeil à [cette video](https://www.youtube.com/watch?v=U2b-MYcSCLc).\n",
    "\n",
    "Le *shell* Bash vous donne accès aux commandes Unix (`ls`, `cat`, `pwd`...). Bash est aussi un langage de programmation que pouvez utiliser pour automatiser un certain nombre de manipulations sur des fichiers.\n",
    "\n",
    "En programmation, on a besoin de faire 4 actions essentielles :\n",
    "\n",
    "1. Stocker de l'information (les variables).\n",
    "2. Manipuler cette information (les opérateurs).\n",
    "3. Répéter des actions (les boucles).\n",
    "4. Prendre des décisions (les tests).\n",
    "\n",
    "Vous pouvez consulter [cette vidéo](https://www.youtube.com/watch?v=N9URJ4yVuGA) pour en apprendre plus.\n",
    "\n",
    "Une fois qu'on sait faire ces 4 actions, on peut pratiquement tout faire.\n",
    "\n",
    "Mais souvenez-vous que quelque soit le langage de programmation :\n",
    "\n",
    "> Fondamentalement, l'ordinateur et l'homme sont les deux opposés les plus intégraux qui existent. L'homme est lent, peu rigoureux et très intuitif. L'ordinateur est super rapide, très rigoureux et complètement con...\n",
    "\n",
    "-- Gérard Berry, informaticien, médaille d'or du CNRS 2014, professeur au collège de France ([entretien au Nouvel Obs](https://tempsreel.nouvelobs.com/rue89/rue89-le-grand-entretien/20160826.RUE7684/gerard-berry-l-ordinateur-est-completement-con.html), 2016).\n"
   ]
  },
  {
   "cell_type": "markdown",
   "metadata": {},
   "source": [
    "# Variables\n",
    "\n",
    "En Bash, il est possible de définir un certain nombre d'objets, qui vont contenir de l'information et résider dans la mémoire du *shell*. On distingue des variables **locales** et des variables **d'environnement**.\n",
    "\n",
    "\n",
    "## Variables locales\n",
    "\n",
    "Les variables locales existent uniquement dans le *shell* courant.\n",
    "\n",
    "Par convention, elles sont écrites en minuscules. Par exemple :"
   ]
  },
  {
   "cell_type": "code",
   "execution_count": null,
   "metadata": {},
   "outputs": [],
   "source": [
    "a=1\n",
    "test=\"ma chaîne de caractères\""
   ]
  },
  {
   "cell_type": "markdown",
   "metadata": {},
   "source": [
    "⚠️ Attention. Il n'y a pas d'espace avant ou après le symbole `=` !\n",
    "\n",
    "Si `var` est une variable, alors `$var` donne accès au contenu de la variable et l'instruction `echo $var` affiche le contenu de cette variable. Par exemple :"
   ]
  },
  {
   "cell_type": "code",
   "execution_count": 2,
   "metadata": {
    "tags": []
   },
   "outputs": [
    {
     "name": "stdout",
     "output_type": "stream",
     "text": [
      "1\n"
     ]
    }
   ],
   "source": [
    "a=1\n",
    "echo $a"
   ]
  },
  {
   "cell_type": "code",
   "execution_count": 3,
   "metadata": {
    "tags": []
   },
   "outputs": [
    {
     "name": "stdout",
     "output_type": "stream",
     "text": [
      "ma chaîne de caractères\n"
     ]
    }
   ],
   "source": [
    "test=\"ma chaîne de caractères\"\n",
    "echo $test"
   ]
  },
  {
   "cell_type": "markdown",
   "metadata": {},
   "source": [
    "Lors de l'utilisation d'une variable, il est fortement recommandé d'entourer son nom par des accolades `{ }`. Par exemple :"
   ]
  },
  {
   "cell_type": "code",
   "execution_count": 4,
   "metadata": {
    "tags": []
   },
   "outputs": [
    {
     "name": "stdout",
     "output_type": "stream",
     "text": [
      "1\n"
     ]
    }
   ],
   "source": [
    "a=1\n",
    "echo ${a}"
   ]
  },
  {
   "cell_type": "code",
   "execution_count": 5,
   "metadata": {
    "tags": []
   },
   "outputs": [
    {
     "name": "stdout",
     "output_type": "stream",
     "text": [
      "ma chaine de caracteres\n"
     ]
    }
   ],
   "source": [
    "test=\"ma chaine de caracteres\"\n",
    "echo ${test}"
   ]
  },
  {
   "cell_type": "markdown",
   "metadata": {},
   "source": [
    "## Variable d'environnement\n",
    "\n",
    "Les variables d'environnement sont transmises aux processus fils (c'est-à-dire aux programmes qui sont lancés depuis le *shell* courant). Par convention, elles s'écrivent en majuscules. Elles sont déclarées comme variables d'environnement avec la commande `export`.\n",
    "\n",
    "Exemple :"
   ]
  },
  {
   "cell_type": "code",
   "execution_count": 6,
   "metadata": {
    "tags": []
   },
   "outputs": [
    {
     "name": "stdout",
     "output_type": "stream",
     "text": [
      "Youplaboum\n"
     ]
    }
   ],
   "source": [
    "export PROSPER=\"Youplaboum\"\n",
    "echo ${PROSPER}"
   ]
  },
  {
   "cell_type": "markdown",
   "metadata": {
    "tags": []
   },
   "source": [
    "Voici quelques variables d'environnement automatiquement crées par le *shell* et donc utilisables immédiatement :\n",
    "\n",
    "- `PATH` contient les chemins d’accès (répertoires) où le *shell* recherche les commandes tapées par l’utilisateur.<br />\n",
    "    Ainsi la commande\n",
    "    ```\n",
    "    export PATH=${PATH}:/mon/nouveau/repertoire\n",
    "    ```\n",
    "    ajoute le contenu de `/mon/nouveau/repertoire` à la variable `PATH`.\n",
    "- `SHELL` contient le chemin vers le *shell* utilisateur (`/bin/bash` bien souvent).\n",
    "- `USER` contient le nom (identifiant) de l’utilisateur.\n",
    "- `HOSTNAME` contient le nom de la machine.\n",
    "- `HOME` contient le chemin vers le répertoire personnel de l'utilisateur.\n",
    "- `PWD` contient le chemin du répertoire courant.\n",
    "\n",
    "Affichez le contenu des variables d'environnement `USER` et `HOSTNAME` :"
   ]
  },
  {
   "cell_type": "code",
   "execution_count": null,
   "metadata": {},
   "outputs": [],
   "source": []
  },
  {
   "cell_type": "code",
   "execution_count": null,
   "metadata": {},
   "outputs": [],
   "source": []
  },
  {
   "cell_type": "markdown",
   "metadata": {},
   "source": [
    "La commande `env` affiche toutes les variables d'environnement disponibles dans un *shell*."
   ]
  },
  {
   "cell_type": "markdown",
   "metadata": {
    "tags": []
   },
   "source": [
    "## Noms de variables\n",
    "\n",
    "Les noms de variables peuvent contenir :\n",
    "\n",
    "- des lettres minuscules de `a` à `z` (surtout pour les variables locales),\n",
    "- des lettres majuscules de `A` à `Z` (surtout pour les variables d'environnement), \n",
    "- des chiffres de `0` à `9`;\n",
    "- ainsi que les caractères `_`, `-` ou `.`.\n",
    "\n",
    "Créez deux variables **locales** qui contiennent respectivement : `42` et `\"Vive Unix!\"`."
   ]
  },
  {
   "cell_type": "code",
   "execution_count": 12,
   "metadata": {
    "tags": []
   },
   "outputs": [
    {
     "name": "stdout",
     "output_type": "stream",
     "text": [
      "42\n"
     ]
    }
   ],
   "source": [
    "export NOM_VAR=42\n",
    "echo ${NOM_VAR}"
   ]
  },
  {
   "cell_type": "code",
   "execution_count": 11,
   "metadata": {
    "tags": []
   },
   "outputs": [
    {
     "name": "stdout",
     "output_type": "stream",
     "text": [
      "vive unix!\n"
     ]
    }
   ],
   "source": [
    "export NOM_VAR=\"vive unix!\"\n",
    "echo ${NOM_VAR}"
   ]
  },
  {
   "cell_type": "markdown",
   "metadata": {},
   "source": [
    "Affichez ensuite le contenu de ces variables avec la commande `echo`.\n",
    "\n",
    "Remarque : n'oubliez pas les accolades..."
   ]
  },
  {
   "cell_type": "code",
   "execution_count": null,
   "metadata": {},
   "outputs": [],
   "source": []
  },
  {
   "cell_type": "code",
   "execution_count": null,
   "metadata": {},
   "outputs": [],
   "source": []
  },
  {
   "cell_type": "markdown",
   "metadata": {},
   "source": [
    "## Guillemets doubles et simples\n",
    "\n",
    "Les guillemets doubles (`\"`) permettent l'interprétation des variables contenues dans une chaîne de caractères mais pas les guillemets simples (`'`). Exemple :"
   ]
  },
  {
   "cell_type": "code",
   "execution_count": null,
   "metadata": {},
   "outputs": [],
   "source": [
    "echo \"mon login est ${USER}\""
   ]
  },
  {
   "cell_type": "code",
   "execution_count": null,
   "metadata": {},
   "outputs": [],
   "source": [
    "echo 'mon login est ${USER}'"
   ]
  },
  {
   "cell_type": "markdown",
   "metadata": {},
   "source": [
    "Dans le second cas, la variable n'est pas intreprétée, c'est-à-dire qu'elle n'est pas remplacée par son contenu."
   ]
  },
  {
   "cell_type": "markdown",
   "metadata": {},
   "source": [
    "## Résultat d'une commande\n",
    "\n",
    "Il est possible de stocker le résultat d'une commande Unix dans une variable.\n",
    "\n",
    "Affichons d'abord le contenu du fichier `people.dat` :"
   ]
  },
  {
   "cell_type": "code",
   "execution_count": null,
   "metadata": {},
   "outputs": [],
   "source": [
    "cat people.dat"
   ]
  },
  {
   "cell_type": "markdown",
   "metadata": {},
   "source": [
    "Puis comptons le nombre de femmes :"
   ]
  },
  {
   "cell_type": "code",
   "execution_count": null,
   "metadata": {},
   "outputs": [],
   "source": [
    "grep woman people.dat | wc -l"
   ]
  },
  {
   "cell_type": "markdown",
   "metadata": {},
   "source": [
    "On peut stocker le résultat d'une commande pour l'utiliser ultérieurement en mettant cette commande entre `$(` et `)` :"
   ]
  },
  {
   "cell_type": "code",
   "execution_count": null,
   "metadata": {},
   "outputs": [],
   "source": [
    "nombre_femmes=$(grep woman people.dat | wc -l)\n",
    "echo \"Le nombre de femmes est ${nombre_femmes}\""
   ]
  },
  {
   "cell_type": "markdown",
   "metadata": {},
   "source": [
    "On peut utiliser également les caractères `` ` ``, mais cette écriture est moins lisible :"
   ]
  },
  {
   "cell_type": "code",
   "execution_count": null,
   "metadata": {},
   "outputs": [],
   "source": [
    "nombre_femmes=`grep woman people.dat | wc -l`\n",
    "echo \"Le nombre de femmes est ${nombre_femmes}\""
   ]
  },
  {
   "cell_type": "markdown",
   "metadata": {},
   "source": [
    "La première forme avec l'utilisation de `$( )` est préférable."
   ]
  },
  {
   "cell_type": "markdown",
   "metadata": {},
   "source": [
    "**Astuce** : On peut récupérer la racine du nom d'un fichier, c'est-à-dire son nom sans l'extension, par deux méthodes :"
   ]
  },
  {
   "cell_type": "code",
   "execution_count": null,
   "metadata": {
    "tags": []
   },
   "outputs": [],
   "source": [
    "name=\"people.dat\"\n",
    "\n",
    "root1=$(basename $name .dat)\n",
    "root2=${name%.dat}\n",
    "\n",
    "echo \"Nom complet du fichier : ${name}\"\n",
    "echo \"Méthode 1 : ${root1}\"\n",
    "echo \"Méthode 2 : ${root2}\""
   ]
  },
  {
   "cell_type": "markdown",
   "metadata": {},
   "source": [
    "`basename` est une commande Unix qui renvoie le nom d'un fichier sans son chemin et sans son extension quand on lui passe en argument."
   ]
  },
  {
   "cell_type": "markdown",
   "metadata": {
    "tags": []
   },
   "source": [
    "# Manipulation de variables\n",
    "\n",
    "Bash ne sait manipuler que les variables numériques entières et des chaînes de caractères.\n",
    "\n",
    "Commençons par les entiers :"
   ]
  },
  {
   "cell_type": "code",
   "execution_count": null,
   "metadata": {},
   "outputs": [],
   "source": [
    "i=20"
   ]
  },
  {
   "cell_type": "code",
   "execution_count": null,
   "metadata": {},
   "outputs": [],
   "source": [
    "let i=${i}+10\n",
    "echo ${i}"
   ]
  },
  {
   "cell_type": "code",
   "execution_count": null,
   "metadata": {},
   "outputs": [],
   "source": [
    "let i=${i}-3\n",
    "echo ${i}"
   ]
  },
  {
   "cell_type": "markdown",
   "metadata": {},
   "source": [
    "Il existe un raccourci pour ajouter 1 à un nombre :"
   ]
  },
  {
   "cell_type": "code",
   "execution_count": null,
   "metadata": {},
   "outputs": [],
   "source": [
    "let i++\n",
    "echo ${i}"
   ]
  },
  {
   "cell_type": "markdown",
   "metadata": {},
   "source": [
    "ou retrancher 1 :"
   ]
  },
  {
   "cell_type": "code",
   "execution_count": null,
   "metadata": {},
   "outputs": [],
   "source": [
    "let i--\n",
    "echo ${i}"
   ]
  },
  {
   "cell_type": "markdown",
   "metadata": {},
   "source": [
    "On peut également manipuler des chaînes de caractères :"
   ]
  },
  {
   "cell_type": "code",
   "execution_count": null,
   "metadata": {},
   "outputs": [],
   "source": [
    "a=\"I love\"\n",
    "b=\"Unix\"\n",
    "echo \"${a} ${b}\""
   ]
  },
  {
   "cell_type": "markdown",
   "metadata": {},
   "source": [
    "# Boucle for\n",
    "\n",
    "Les boucles permettent de répéter plusieurs fois des actions. Voici une boucle sur une liste d'éléments explicites :"
   ]
  },
  {
   "cell_type": "code",
   "execution_count": null,
   "metadata": {},
   "outputs": [],
   "source": [
    "for fruit in pomme poire fraise\n",
    "do\n",
    "    echo ${fruit}\n",
    "done"
   ]
  },
  {
   "cell_type": "markdown",
   "metadata": {},
   "source": [
    "Les actions à réaliser pour chacun des éléments de la boucle sont entre les mot-clefs `do` et `done`. Ici, l'action à réaliser est `echo ${fruit}`, c'est-à-dire afficher le contenu de la variable `fruit` qui va successivement prendre les valeurs `pomme`, `poire` et `fraise`.\n",
    "\n",
    "On peut bien sûr réaliser plusieurs actions dans une boucle `for` :"
   ]
  },
  {
   "cell_type": "code",
   "execution_count": null,
   "metadata": {},
   "outputs": [],
   "source": [
    "for fruit in pomme poire fraise\n",
    "do\n",
    "    echo \"J'aime\"\n",
    "    echo ${fruit}\n",
    "done"
   ]
  },
  {
   "cell_type": "markdown",
   "metadata": {},
   "source": [
    "Remarque : l'indentation, c'est-à-dire le retrait à droite, des actions à réaliser dans la boucle n'est pas obligatoire mais facilite la lecture de la boucle."
   ]
  },
  {
   "cell_type": "markdown",
   "metadata": {},
   "source": [
    "Voici maintenant une boucle sur tous les fichiers `.sh` (les scripts Bash) du répertoire courant :"
   ]
  },
  {
   "cell_type": "code",
   "execution_count": null,
   "metadata": {},
   "outputs": [],
   "source": [
    "for name in *.sh\n",
    "do\n",
    "    echo ${name}\n",
    "done"
   ]
  },
  {
   "cell_type": "markdown",
   "metadata": {},
   "source": [
    "Ici `*.sh` se substitue à tous les noms possibles de fichiers dont l'extension est `.sh`. Le caractère `*` remplace plusieurs caractères.\n",
    "\n",
    "Et une boucle pour afficher tous les mots de fichier `haiku.txt`, un mot par ligne :"
   ]
  },
  {
   "cell_type": "code",
   "execution_count": null,
   "metadata": {},
   "outputs": [],
   "source": [
    "for word in $(cat haiku.txt)\n",
    "do\n",
    "    echo ${word}\n",
    "done"
   ]
  },
  {
   "cell_type": "markdown",
   "metadata": {},
   "source": [
    "Les mêmes commandes, mais sur une seule ligne :"
   ]
  },
  {
   "cell_type": "code",
   "execution_count": null,
   "metadata": {},
   "outputs": [],
   "source": [
    "for word in $(cat haiku.txt); do echo ${word}; done"
   ]
  },
  {
   "cell_type": "markdown",
   "metadata": {},
   "source": [
    "# Test\n",
    "\n",
    "Les tests sont une structure de programmation très utile pour prendre des décisions.\n",
    "\n",
    "## Structure\n",
    "\n",
    "Voici un premier test simple :"
   ]
  },
  {
   "cell_type": "code",
   "execution_count": null,
   "metadata": {},
   "outputs": [],
   "source": [
    "if free -h | grep Mem\n",
    "then\n",
    "    echo \"Calcul de la mémoire vive : OK\"\n",
    "fi"
   ]
  },
  {
   "cell_type": "markdown",
   "metadata": {},
   "source": [
    "Si la commande `free -h | grep Mem`, qui permet d'obtenir la quantité de mémoire vive sur la machine, s'exécute correctement, alors le programme affiche `Calcul de la mémoire vive : OK`.\n",
    "\n",
    "Les actions à exécuter lorsque le test est correct se trouvent entre les mot-clefs `then` et `fi`. On peut ajouter le mot-clef `else` pour exécuter des actions si le test n'est pas correct :"
   ]
  },
  {
   "cell_type": "code",
   "execution_count": null,
   "metadata": {},
   "outputs": [],
   "source": [
    "if free -h | grep Mem\n",
    "then\n",
    "    echo \"Calcul de la mémoire vive : OK\"\n",
    "else\n",
    "    echo \"Calcul de la mémoire vive impossible\"\n",
    "fi"
   ]
  },
  {
   "cell_type": "markdown",
   "metadata": {},
   "source": [
    "Si la commande `free -h | grep Mem` ne s'exécute pas correctement alors le programme affiche `Calcul de la mémoire vive impossible`."
   ]
  },
  {
   "cell_type": "markdown",
   "metadata": {},
   "source": [
    "## Opérateurs de comparaison\n",
    "\n",
    "Le plus souvent, pour faire un test, on réalise une ou plusieurs comparaisons. Une comparaison utilise des opérateurs.\n",
    "\n",
    "Opérateurs pour des entiers :\n",
    "\n",
    "| opérateur  | signification        |\n",
    "|:----------:|----------------------|\n",
    "| `-eq`      | égal à               |\n",
    "| `-ne`      | différent de         |\n",
    "| `-gt`      | supérieur à          |\n",
    "| `-ge`      | supérieur ou égale à |\n",
    "| `-lt`      | inférieur à          |\n",
    "| `-le`      | inférieur ou égale à |\n",
    "\n",
    "\n",
    "Opérateurs pour des chaînes de caractères :\n",
    "\n",
    "| opérateur  | signification        |\n",
    "|:----------:|----------------------|\n",
    "| `=`        | égal à               |\n",
    "| `!=`       | différent de         |\n",
    "| `>`        | supérieur à          |\n",
    "| `<`        | inférieur à          |\n",
    "| `-z`       | vide                 |\n",
    "\n",
    "\n",
    "Opérateurs pour des fichiers :\n",
    "\n",
    "| opérateur  | signification                                         |\n",
    "|:----------:|-------------------------------------------------------|\n",
    "| `-e`       | le fichier existe                                     |\n",
    "| `-s`       | le fichier existe et sa taille est non nulle          |\n",
    "| `-r`       | le fichier existe et est lisible par l'utilisateur    |\n",
    "| `-w`       | le fichier existe et est modifiable par l'utilisateur |\n",
    "| `-x`       | le fichier existe et est exécutable par l'utilisateur |\n",
    "\n",
    "L'opérateur `!` est un peu particulier car c'est l'opérateur de négation.\n",
    "\n",
    "Voici un premier exemple avec une comparaison de nombres entiers :"
   ]
  },
  {
   "cell_type": "code",
   "execution_count": null,
   "metadata": {},
   "outputs": [],
   "source": [
    "nombre=4\n",
    "if [[ ${nombre} -eq 10 ]]\n",
    "then\n",
    "    echo \"Le nombre vaut ${nombre}\"\n",
    "    echo \"Test positif\"\n",
    "else\n",
    "    echo \"Le nombre vaut ${nombre}\"\n",
    "    echo \"Test négatif\"\n",
    "fi"
   ]
  },
  {
   "cell_type": "markdown",
   "metadata": {},
   "source": [
    "Notez bien l'utilisation des doubles crochets ouvrants et fermants (`[[ ]]`) qui encadrent la comparaison. Il est impératif de garder un espace après `[[ ` et un espace avant ` ]]`.\n",
    "\n",
    "Voici maintenant deux autres exemples avec des comparaisons de chaînes de caractères :"
   ]
  },
  {
   "cell_type": "code",
   "execution_count": null,
   "metadata": {},
   "outputs": [],
   "source": [
    "prenom=\"Pierre\"\n",
    "if [[ ${prenom} = \"Pierre\" ]]\n",
    "then\n",
    "    echo \"Accès autorisé\"\n",
    "else\n",
    "    echo \"Accès refusé\"\n",
    "fi"
   ]
  },
  {
   "cell_type": "markdown",
   "metadata": {},
   "source": [
    "Copiez dans la cellule ci-dessous le code précédent, puis modifiez la variable `prenom` pour afficher `Accès refusé` :"
   ]
  },
  {
   "cell_type": "code",
   "execution_count": null,
   "metadata": {},
   "outputs": [],
   "source": []
  },
  {
   "cell_type": "markdown",
   "metadata": {},
   "source": [
    "On peut également vérifier qu'une chaîne de caractères n'est pas vide :"
   ]
  },
  {
   "cell_type": "code",
   "execution_count": null,
   "metadata": {},
   "outputs": [],
   "source": [
    "msg=\"hello\"\n",
    "if [[ ! -z ${msg} ]]\n",
    "then\n",
    "    echo \"msg vaut ${msg}\"\n",
    "else\n",
    "    echo \"msg est nulle\"\n",
    "fi"
   ]
  },
  {
   "cell_type": "markdown",
   "metadata": {},
   "source": [
    "La comparaison `-z ${msg}` vérifie si la variable `msg` est vide donc la comparaison `! -z ${msg}` vérifie que `msg` n'est **pas** vide.\n",
    "\n",
    "Enfin, voici un dernier exemple avec une comparaison de fichier :"
   ]
  },
  {
   "cell_type": "code",
   "execution_count": null,
   "metadata": {},
   "outputs": [],
   "source": [
    "if [[ -e /bin/bash ]]\n",
    "then\n",
    "    echo \"Shell Bash trouvé !\"\n",
    "fi"
   ]
  },
  {
   "cell_type": "markdown",
   "metadata": {},
   "source": [
    "Si le fichier `/bin/bash` existe, alors on affiche le message `Shell Bash trouvé !`.\n",
    "\n",
    "\n",
    "**Remarque :** Vous pourrez trouver dans des livres ou sur internet d'autres manières d'écrire des tests.\n",
    "\n",
    "- Avec un seul crochet ouvrant et fermant `[ ]` :"
   ]
  },
  {
   "cell_type": "code",
   "execution_count": null,
   "metadata": {},
   "outputs": [],
   "source": [
    "msg=\"hello\"\n",
    "if [ ! -z ${msg} ]\n",
    "then\n",
    "    echo \"msg vaut ${msg}\"\n",
    "else\n",
    "    echo \"msg est nulle\"\n",
    "fi"
   ]
  },
  {
   "cell_type": "markdown",
   "metadata": {},
   "source": [
    "- Avec la commande Bash `test` :"
   ]
  },
  {
   "cell_type": "code",
   "execution_count": null,
   "metadata": {},
   "outputs": [],
   "source": [
    "msg=\"hello\"\n",
    "if test ! -z ${msg}\n",
    "then\n",
    "    echo \"msg vaut ${msg}\"\n",
    "else\n",
    "    echo \"msg est nulle\"\n",
    "fi"
   ]
  },
  {
   "cell_type": "markdown",
   "metadata": {},
   "source": [
    "🔔 La méthode avec les doubles crochets `[[ ]]` est celle qui est recommandée et qu'il faut utiliser avec Bash. Pour en savoir plus, vous pouvez lire [Test Constructs](http://www.tldp.org/LDP/abs/html/testconstructs.html).\n",
    "\n",
    "\n",
    "## Combinaisons de comparaisons\n",
    "\n",
    "Enfin, on peut également combiner plusieurs comparaisons dans un même test avec des opérateurs booléens :\n",
    "\n",
    "| opérateur  | signification |\n",
    "|:----------:|---------------|\n",
    "| `&&`       | et            |\n",
    "| `\\|\\|`       | ou            |\n",
    "\n",
    "\n",
    "Exemple :\n"
   ]
  },
  {
   "cell_type": "code",
   "execution_count": null,
   "metadata": {},
   "outputs": [],
   "source": [
    "msg=\"hello\"\n",
    "nombre=2\n",
    "if [[ ! -z ${msg} && ${nombre} -eq 2 ]]\n",
    "then\n",
    "    echo \"tests OK\"\n",
    "fi"
   ]
  },
  {
   "cell_type": "markdown",
   "metadata": {},
   "source": [
    "La combinaison des deux comparaisons `! -z ${msg}` et `${nombre} -eq 2` se fait avec l'opérateur **et** logique `&&`. Les deux comparaisons se trouvent entre les doubles crochets `[[` et `]]`.\n",
    "\n",
    "\n",
    "## Boucle while\n",
    "\n",
    "Il existe un second type de boucle, qui utilise le mot-clef `while` et des tests.\n"
   ]
  },
  {
   "cell_type": "code",
   "execution_count": null,
   "metadata": {},
   "outputs": [],
   "source": [
    "nombre=1\n",
    "while [[ ${nombre} -le 5 ]]\n",
    "do\n",
    "    echo \"nombre vaut ${nombre}\"\n",
    "    let nombre++\n",
    "done"
   ]
  },
  {
   "cell_type": "markdown",
   "metadata": {},
   "source": [
    "La boucle s'exécute tant que la variable `nombre` est inférieure ou égale à 5.\n",
    "\n",
    "Les boucles `while` sont un peu particulières car pour fonctionner, elles ont besoin d'une variable :\n",
    "\n",
    "- initialisée avant la boucle (`nombre=1`) ;\n",
    "- testée au niveau du mot-clef `while` (`while [[ ${nombre} -le 5 ]]`) ;\n",
    "- et incrémentée (modifiée) dans le corps de la boucle, c'est-à-dire entre les mot-clefs `do` et `done` (`let nombre++`)."
   ]
  },
  {
   "cell_type": "markdown",
   "metadata": {
    "tags": []
   },
   "source": [
    "# Script\n",
    "\n",
    "Quand il y a plusieurs commandes Bash à exécuter, on les écrit, la plupart du temps, dans un fichier qu'on appelle un **script**.\n",
    "\n",
    "## Caractères spéciaux dans les noms de fichiers\n",
    "\n",
    "L'utilisation des caractères spéciaux  `* ? ! $ < > & \\ / \" '  ; #` et des espaces dans les noms de fichiers n'est pas recommandé.\n",
    "\n",
    "Le caractère `\\` *échappe* le caractère spécial qui le suit de l’interprétation du *shell*.\n",
    "\n",
    "Par exemple, avec le fichier `mon fichier.txt`, l'affichage de son contenu (`hello world`) avec la commande `cat` pourra être problématique. Sans *échapper* l'espace contenu dans `mon fichier.txt`, `cat` va vouloir afficher les fichiers `mon` et `fichier.txt`, qui bien sûr n'existent pas :"
   ]
  },
  {
   "cell_type": "code",
   "execution_count": null,
   "metadata": {},
   "outputs": [],
   "source": [
    "cat mon fichier.txt"
   ]
  },
  {
   "cell_type": "markdown",
   "metadata": {},
   "source": [
    "Par contre, avec un espace correctement *échappé* avec `\\` ou le nom de fichier entre guillemets, on peut afficher le contenu de `mon fichier.txt`."
   ]
  },
  {
   "cell_type": "code",
   "execution_count": null,
   "metadata": {},
   "outputs": [],
   "source": [
    "cat mon\\ fichier.txt"
   ]
  },
  {
   "cell_type": "code",
   "execution_count": null,
   "metadata": {},
   "outputs": [],
   "source": [
    "cat \"mon fichier.txt\""
   ]
  },
  {
   "cell_type": "code",
   "execution_count": null,
   "metadata": {},
   "outputs": [],
   "source": [
    "cat 'mon fichier.txt'"
   ]
  },
  {
   "cell_type": "markdown",
   "metadata": {},
   "source": [
    "Mais de manière générale, ne mettez pas (jamais, JAMAIS, **JAMAIS** !) d'espace dans vos noms de fichiers."
   ]
  },
  {
   "cell_type": "markdown",
   "metadata": {},
   "source": [
    "## Exécution\n",
    "\n",
    "Pour pouvoir exécuter un script, il y a deux méthodes.\n",
    "\n",
    "**Méthode 1**\n",
    "\n",
    "Le script doit être rendu exécutable de façon à ce qu'on puisse ensuite le lancer de manière autonome.\n",
    "\n",
    "Considérons par exemple le script `script.sh` et affichons les droits actuels de ce fichier :"
   ]
  },
  {
   "cell_type": "code",
   "execution_count": null,
   "metadata": {},
   "outputs": [],
   "source": [
    "ls -l script.sh"
   ]
  },
  {
   "cell_type": "markdown",
   "metadata": {},
   "source": [
    "Puis rendons ce script exécutable avec la commande `chmod` :"
   ]
  },
  {
   "cell_type": "code",
   "execution_count": null,
   "metadata": {},
   "outputs": [],
   "source": [
    "chmod +x script.sh"
   ]
  },
  {
   "cell_type": "markdown",
   "metadata": {},
   "source": [
    "Cette opération n'est à faire qu'une seule fois.\n",
    "\n",
    "On vérifie alors les droits du script :"
   ]
  },
  {
   "cell_type": "code",
   "execution_count": null,
   "metadata": {},
   "outputs": [],
   "source": [
    "ls -l script.sh"
   ]
  },
  {
   "cell_type": "markdown",
   "metadata": {},
   "source": [
    "Le symbole `x` indique que le script est désormais exécutable.\n",
    "\n",
    "Le script est ensuite lancé en l'appelant avec son nom, précédé de `./` si il se trouve dans le répertoire courant :"
   ]
  },
  {
   "cell_type": "code",
   "execution_count": null,
   "metadata": {},
   "outputs": [],
   "source": [
    "./script.sh"
   ]
  },
  {
   "cell_type": "markdown",
   "metadata": {},
   "source": [
    "ou du chemin complet vers le script si il se trouve dans un autre répertoire :\n",
    "\n",
    "```\n",
    "/chemin/complet/script.sh\n",
    "```"
   ]
  },
  {
   "cell_type": "markdown",
   "metadata": {},
   "source": [
    "**Méthode 2** \n",
    "\n",
    "On peut également exécuter un script Bash sans qu'il ne soit exécutable. Mais il faut pour cela appeler explicitement l'interpréteur Bash devant le nom du script. Par exemple :"
   ]
  },
  {
   "cell_type": "code",
   "execution_count": null,
   "metadata": {},
   "outputs": [],
   "source": [
    "bash script.sh"
   ]
  },
  {
   "cell_type": "markdown",
   "metadata": {},
   "source": [
    "La seconde méthode est à la fois plus immédiate mais aussi plus explicite. On appelle en effet explicitement l'interpréteur Bash pour exécuter le script.\n",
    "\n",
    "C'est donc cette méthode que je vous recommande."
   ]
  },
  {
   "cell_type": "markdown",
   "metadata": {},
   "source": [
    "## Première ligne et shebang\n",
    "\n",
    "La première ligne du script est une ligne particulière qui débute par les caractères `#!` qu'on appelle [Shebang](https://fr.wikipedia.org/wiki/Shebang) (ou shabang) et qui contient le chemin pour trouver l'interpréteur de commandes, c'est-à-dire le *shell*. Pour Bash, on utilise :\n",
    "\n",
    "```\n",
    "#! /bin/bash\n",
    "```\n",
    "\n",
    "ou une forme plus générique :\n",
    "\n",
    "```\n",
    "#! /usr/bin/env bash\n",
    "```\n",
    "\n",
    "La forme `#! /usr/bin/env bash` est celle qui permettra d'utiliser le script Bash sur le plus de systèmes d'exploitation Unix / Linux différents. C'est celle à utiliser."
   ]
  },
  {
   "cell_type": "markdown",
   "metadata": {},
   "source": [
    "## Commentaires\n",
    "\n",
    "Dans un script Bash, tout ce qui suit le caractère `#` est ignoré et considéré comme un commentaire (sauf pour la première ligne avec le shebang)."
   ]
  },
  {
   "cell_type": "markdown",
   "metadata": {},
   "source": [
    "## Arguments et variables prédéfinies\n",
    "\n",
    "En Bash, on a souvent besoin de passer de l'information depuis la ligne de commande qui lance le script vers l'intérieur du script.\n",
    "\n",
    "Pour cela, il existe des variables prédéfinies comme :\n",
    "\n",
    "- `$1`, `$2`... le premier argument, deuxième argument... de la ligne de commande.\n",
    "- `$*` tous les arguments de la ligne de commande.\n",
    "- `$#` le nombre d'arguments de la ligne de commande.\n",
    "\n",
    "Par exemple, avec le script `arg.sh` suivant :\n",
    "\n",
    "```\n",
    "#! /usr/bin/env bash\n",
    "\n",
    "# affiche le nombre d'arguments donnés dans la ligne de commande\n",
    "echo \"Nombre d'arguments : $#\"\n",
    "\n",
    "# affiche tous les arguments en une seule fois\n",
    "echo \"Tous les arguments : $*\"\n",
    "\n",
    "# affiche le premier argument, puis le deuxième, puis...\n",
    "echo \"Premier argument : $1\"\n",
    "echo \"Deuxième argument : $2\"\n",
    "echo \"Troisième argument : $3\"\n",
    "```\n",
    "\n",
    "Si on utilise maintenant `arg.sh` avec deux arguments (`toto` et `titi`) :"
   ]
  },
  {
   "cell_type": "code",
   "execution_count": null,
   "metadata": {},
   "outputs": [],
   "source": [
    "bash arg.sh toto titi"
   ]
  },
  {
   "cell_type": "markdown",
   "metadata": {},
   "source": [
    "On remarque que l'affichage du troisième argument, qui pourtant n'existe pas, ne pose pas de problème à Bash. Par défaut, si une variable est appelée alors qu'elle n'a pas été définie au préalable, sa valeur est une chaîne de caractères vide.\n",
    "\n",
    "Si on utilise maintenant `arg.sh` avec trois arguments (`toto`, `titi` et `42`) :"
   ]
  },
  {
   "cell_type": "code",
   "execution_count": null,
   "metadata": {},
   "outputs": [],
   "source": [
    "bash arg.sh toto titi 42"
   ]
  },
  {
   "cell_type": "markdown",
   "metadata": {},
   "source": [
    "## Affichage de variables\n",
    "\n",
    "Affichons le contenu du script `var.sh` :"
   ]
  },
  {
   "cell_type": "code",
   "execution_count": null,
   "metadata": {},
   "outputs": [],
   "source": [
    "cat var.sh"
   ]
  },
  {
   "cell_type": "markdown",
   "metadata": {},
   "source": [
    "puis exécutons-le :"
   ]
  },
  {
   "cell_type": "code",
   "execution_count": null,
   "metadata": {},
   "outputs": [],
   "source": [
    "bash var.sh"
   ]
  },
  {
   "cell_type": "markdown",
   "metadata": {},
   "source": [
    "Soyez très attentifs aux différents type de guillemets utilisées (simples `'` et doubles `\"`) qui ont une influence sur l'affichage ou non du contenu  d'une variable (ici `USER` et `HOSTNAME`)."
   ]
  },
  {
   "cell_type": "markdown",
   "metadata": {},
   "source": [
    "\n",
    "## Quitter un script\n",
    "\n",
    "La commande `exit` permet de quitter un script. Voici un exemple avec le script `exit.sh` et qui en plus utilise la boucle `while` et le test avec `if`.\n",
    "\n",
    "Affichez le contenu du script :"
   ]
  },
  {
   "cell_type": "code",
   "execution_count": 1,
   "metadata": {},
   "outputs": [
    {
     "name": "stdout",
     "output_type": "stream",
     "text": [
      "#! /usr/bin/env bash\n",
      "\n",
      "# script pour tester la commande exit\n",
      "\n",
      "nombre=1\n",
      "while [[ ${nombre} -le 5 ]]\n",
      "do\n",
      "    echo \"nombre vaut ${nombre}\"\n",
      "    if [[ ${nombre} -eq 3 ]]\n",
      "    then\n",
      "        echo \"Au revoir\"\n",
      "        exit\n",
      "    fi\n",
      "    let nombre++\n",
      "done\n",
      "\n"
     ]
    }
   ],
   "source": [
    "cat exit.sh"
   ]
  },
  {
   "cell_type": "markdown",
   "metadata": {},
   "source": [
    "Exécutez-le :"
   ]
  },
  {
   "cell_type": "code",
   "execution_count": null,
   "metadata": {},
   "outputs": [],
   "source": [
    "bash exit.sh"
   ]
  },
  {
   "cell_type": "markdown",
   "metadata": {},
   "source": [
    "Quand la variable `nombre` atteint la valeur 3, le test `[[ ${nombre} -eq 3 ]]` est vérifié et le script s'arrête avec la commande `exit`."
   ]
  },
  {
   "cell_type": "markdown",
   "metadata": {},
   "source": [
    "# Conclusion\n",
    "\n",
    "Pour conclure sur la programmation en générale et la programmation Bash en particulier, voici une citation de H. Abelsen :\n",
    "\n",
    "> Programs must be written for people to read, and only incidentally for machines to execute.\n",
    "\n",
    "-- [Harold Abelsen](https://fr.wikipedia.org/wiki/Hal_Abelson), *Structure and Interpretation of Computer Programs*, The MIT Press, 1996, préface de la première édition.\n",
    "\n",
    "H. Abelsen est informaticien et un membre fondateur des Creatives Commons et de la Free Software Foundation.\n",
    "\n",
    "\n",
    "Nous vous conseillons fortement de suivre ce principe et de rendre vos scripts Bash clairs et lisibles. Pour cela, vos programmes et scripts doivent contenir :\n",
    "\n",
    "- des commentaires précis et informatifs ;\n",
    "- des noms de variables qui ont du sens ;\n",
    "- une structure et une organisation claire.\n",
    "\n",
    "\n",
    "# Ressources complémentaires\n",
    "\n",
    "Une [vidéo](https://www.youtube.com/watch?v=N9URJ4yVuGA) sur les 4 concepts fondamentaux en programmation.\n",
    "\n",
    "[Bash scripting cheatsheet](https://devhints.io/bash) : un mémo sur les principales commandes Bash.\n",
    "\n",
    "[Shell Scripting Tutorial](https://www.shellscript.sh/index.html) : un tutoriel intéressant sur *shell* Bash.\n",
    "\n",
    "[Bash scripting quirks & safety tips](https://jvns.ca/blog/2017/03/26/bash-quirks/) : bonnes pratiques pour l'écriture de scripts Bash.\n",
    "\n",
    "[Bash errors](https://wizardzines.com/comics/bash-errors/) : BD sur la gestion des erreurs dans un script Bash (du blog [wizard zines](https://wizardzines.com/comics/)).\n",
    "\n",
    "[Writing Scripts](http://www.datacarpentry.org/shell-genomics/05-writing-scripts/) du tutoriel [Shell Genomics](http://www.datacarpentry.org/shell-genomics/) de [Data Carpentry](http://www.datacarpentry.org/).\n",
    "\n",
    "[ShellCheck](https://www.shellcheck.net/) : un outil en ligne qui vérifie la qualité d'un script Bash et propose des conseils pour l'améliorer."
   ]
  },
  {
   "cell_type": "code",
   "execution_count": null,
   "metadata": {},
   "outputs": [],
   "source": []
  }
 ],
 "metadata": {
  "kernelspec": {
   "display_name": "Bash",
   "language": "bash",
   "name": "bash"
  },
  "language_info": {
   "codemirror_mode": "shell",
   "file_extension": ".sh",
   "mimetype": "text/x-sh",
   "name": "bash"
  },
  "toc-autonumbering": true
 },
 "nbformat": 4,
 "nbformat_minor": 4
}
